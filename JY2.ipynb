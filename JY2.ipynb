{
 "cells": [
  {
   "cell_type": "code",
   "execution_count": 1,
   "metadata": {
    "collapsed": false
   },
   "outputs": [
    {
     "name": "stderr",
     "output_type": "stream",
     "text": [
      "/Users/bengreenberg/anaconda/lib/python2.7/site-packages/statsmodels/compat/pandas.py:56: FutureWarning: The pandas.core.datetools module is deprecated and will be removed in a future version. Please use the pandas.tseries module instead.\n",
      "  from pandas.core import datetools\n"
     ]
    }
   ],
   "source": [
    "import pandas as pd\n",
    "import numpy as np\n",
    "import seaborn as sns\n",
    "from scipy.stats import pearsonr\n",
    "from sklearn.metrics import accuracy_score, precision_score, recall_score\n",
    "import statsmodels.api as sm\n",
    "import statsmodels.formula.api as smf\n",
    "import matplotlib.pyplot as plt\n",
    "%matplotlib inline\n",
    "sns.set(style = 'ticks', font_scale = 1.8)\n",
    "from sklearn.metrics import confusion_matrix, accuracy_score,\\\n",
    "precision_score, recall_score\n",
    "from sklearn import tree, svm, ensemble\n",
    "from sklearn.model_selection import train_test_split, cross_val_score, GridSearchCV\n",
    "from IPython.display import Image\n",
    "import pydotplus "
   ]
  },
  {
   "cell_type": "code",
   "execution_count": 3,
   "metadata": {
    "collapsed": false
   },
   "outputs": [],
   "source": [
    "data = pd.read_csv('cancer_dataset.csv')"
   ]
  },
  {
   "cell_type": "code",
   "execution_count": 15,
   "metadata": {
    "collapsed": true
   },
   "outputs": [],
   "source": [
    "def forward_selector_glm(data, response, threshold = 0.2):\n",
    "    \"\"\"Generalised linear model designed by forward selection.\n",
    "\n",
    "    Parameters:\n",
    "    -----------\n",
    "    data : pandas DataFrame with all possible predictors and response\n",
    "\n",
    "    response: string, name of response column in data\n",
    "\n",
    "    Returns:\n",
    "    --------\n",
    "    model: an \"optimal\" fitted statsmodels generalised linear model\n",
    "           with an intercept\n",
    "           selected by forward selection\n",
    "           evaluated by deviance\n",
    "           \n",
    "    Modified from: http://planspace.org/20150423-forward_selection_with_statsmodels/ #af\n",
    "    \"\"\"\n",
    "    remaining = set(data.columns)\n",
    "    remaining.remove(response)\n",
    "    selected = []\n",
    "    current_score, best_new_score = 10000.0, 10000.0\n",
    "    while remaining and current_score == best_new_score:\n",
    "        scores_with_candidates = []\n",
    "        \n",
    "\n",
    "        for candidate in remaining:\n",
    "            formula = \"{} ~ {} + 1\".format(response,\n",
    "                                           ' + '.join(selected + [candidate]))\n",
    "            score = smf.glm(formula, data, family = sm.families.Binomial()).fit().deviance\n",
    "            scores_with_candidates.append((score, candidate))\n",
    "        scores_with_candidates.sort(reverse = True)\n",
    "        best_new_score, best_candidate = scores_with_candidates.pop()\n",
    "        if (best_new_score + best_new_score*threshold) < current_score : #  Thresholding\n",
    "            remaining.remove(best_candidate)\n",
    "            selected.append(best_candidate)\n",
    "            current_score = best_new_score\n",
    "    formula = \"{} ~ {} + 1\".format(response,\n",
    "                                   ' + '.join(selected))\n",
    "    model = smf.glm(formula, data, family = sm.families.Binomial()).fit()\n",
    "    return model, selected\n"
   ]
  },
  {
   "cell_type": "code",
   "execution_count": 20,
   "metadata": {
    "collapsed": false
   },
   "outputs": [
    {
     "name": "stdout",
     "output_type": "stream",
     "text": [
      "Complete\n"
     ]
    }
   ],
   "source": [
    "from sklearn.metrics import confusion_matrix, accuracy_score, precision_score, recall_score, f1_score\n",
    "from sklearn.model_selection import train_test_split\n",
    "from sklearn import tree \n",
    "best_accuracy_scores = 0\n",
    "best_precision_scores = 0\n",
    "best_recall_scores = 0\n",
    "best_f1_scores = 0\n",
    "best_scores_list = []\n",
    "best_accuracy_params = []\n",
    "best_precision_params = []\n",
    "best_recall_params = []\n",
    "best_f1_params = []\n",
    "\n",
    "data = pd.read_csv('cancer_dataset.csv')\n",
    "new_data = data\n",
    "del new_data['diagnosis']\n",
    "\n",
    "for state in range(0,20):\n",
    "    train, test = train_test_split(new_data, test_size = 0.2,random_state = state)\n",
    "    training, tlist = forward_selector_glm(train,'diagnosis_bin')\n",
    "    x_train = np.array(train[tlist]) \n",
    "    y_train = np.array(train['diagnosis_bin']) \n",
    "    x_test = np.array(test[tlist]) \n",
    "    y_test  = np.array(test['diagnosis_bin'])\n",
    "    cancertree = tree.DecisionTreeClassifier(max_depth=2, min_impurity_split=0.2)\n",
    "    accuracy_scores = cross_val_score(cancertree, x_test, y_test, cv=10, scoring='accuracy')\n",
    "    precision_scores = cross_val_score(cancertree, x_test, y_test, cv=10, scoring='precision')\n",
    "    recall_scores = cross_val_score(cancertree, x_test, y_test, cv=10, scoring='recall')\n",
    "    f1_scores = cross_val_score(cancertree, x_test, y_test, cv=10, scoring='f1')\n",
    "    if np.mean(accuracy_scores) > best_accuracy_scores:\n",
    "        best_accuracy_scores = np.mean(accuracy_scores)\n",
    "        best_accuracy_params = tlist\n",
    "    if np.mean(precision_scores) > best_precision_scores:\n",
    "        best_precision_scores = np.mean(precision_scores)\n",
    "        best_precision_params = tlist\n",
    "    if np.mean(recall_scores) > best_recall_scores:\n",
    "        best_recall_scores = np.mean(recall_scores)\n",
    "        best_recall_params = tlist\n",
    "    if np.mean(f1_scores) > best_f1_scores:\n",
    "        best_f1_scores = np.mean(f1_scores)\n",
    "        best_f1_params = tlist\n",
    "\n",
    "print \"Complete\""
   ]
  },
  {
   "cell_type": "code",
   "execution_count": 21,
   "metadata": {
    "collapsed": false
   },
   "outputs": [
    {
     "name": "stdout",
     "output_type": "stream",
     "text": [
      "best_accuracy_scores: 0.939242424242\n",
      "best_accuracy_params: ['perimeter_worst', 'smoothness_worst', 'texture_mean']\n",
      "best_precision_scores: 0.975\n",
      "best_precision_params: ['perimeter_worst', 'smoothness_worst', 'texture_worst', 'radius_se']\n",
      "best_recall_scores: 0.925\n",
      "best_recall_params: ['perimeter_worst', 'smoothness_worst', 'texture_mean']\n",
      "best_f1_scores: 0.927105672106\n",
      "best_f1_params: ['perimeter_worst', 'smoothness_worst', 'texture_worst', 'area_se']\n"
     ]
    }
   ],
   "source": [
    "print 'best_accuracy_scores:',best_accuracy_scores\n",
    "print 'best_accuracy_params:',best_accuracy_params\n",
    "print 'best_precision_scores:',best_precision_scores\n",
    "print 'best_precision_params:',best_precision_params\n",
    "print 'best_recall_scores:',best_recall_scores\n",
    "print 'best_recall_params:',best_recall_params\n",
    "print 'best_f1_scores:',best_f1_scores\n",
    "print 'best_f1_params:',best_f1_params"
   ]
  },
  {
   "cell_type": "code",
   "execution_count": null,
   "metadata": {
    "collapsed": true
   },
   "outputs": [],
   "source": []
  }
 ],
 "metadata": {
  "kernelspec": {
   "display_name": "Python 2",
   "language": "python",
   "name": "python2"
  },
  "language_info": {
   "codemirror_mode": {
    "name": "ipython",
    "version": 2
   },
   "file_extension": ".py",
   "mimetype": "text/x-python",
   "name": "python",
   "nbconvert_exporter": "python",
   "pygments_lexer": "ipython2",
   "version": "2.7.13"
  }
 },
 "nbformat": 4,
 "nbformat_minor": 2
}
