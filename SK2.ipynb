{
 "cells": [
  {
   "cell_type": "markdown",
   "metadata": {},
   "source": [
    "# Cancer Wisconsin Dataset\n",
    "`Introduction and Background`\n",
    "\n",
    "The Breast Cancer Wisconsin (Diagnostic) Data Set is obtained from the UCI Machine Learning Repository.\n",
    "\n",
    "\n",
    "-Features are computed from a digitized image of a fine needle aspirate (FNA) of a breast mass.\n",
    "\n",
    "-They describe characteristics of the cell nuclei present in the image."
   ]
  },
  {
   "cell_type": "markdown",
   "metadata": {},
   "source": [
    "Attribute Information:\n",
    "\n",
    "1) ID number\n",
    "2) Diagnosis (M = malignant, B = benign)\n",
    "3-32)\n",
    "\n",
    "Ten real-valued features are computed for each cell nucleus:\n",
    "\n",
    "a) radius (mean of distances from center to points on the perimeter)\n",
    "b) texture (standard deviation of gray-scale values)\n",
    "c) perimeter\n",
    "d) area\n",
    "e) smoothness (local variation in radius lengths)\n",
    "f) compactness (perimeter^2 / area - 1.0)\n",
    "g) concavity (severity of concave portions of the contour)\n",
    "h) concave points (number of concave portions of the contour)\n",
    "i) symmetry\n",
    "j) fractal dimension (\"coastline approximation\" - 1)"
   ]
  },
  {
   "cell_type": "code",
   "execution_count": 1,
   "metadata": {
    "collapsed": false
   },
   "outputs": [
    {
     "name": "stderr",
     "output_type": "stream",
     "text": [
      "C:\\Anaconda2\\envs\\jupyter2\\lib\\site-packages\\statsmodels\\compat\\pandas.py:56: FutureWarning: The pandas.core.datetools module is deprecated and will be removed in a future version. Please use the pandas.tseries module instead.\n",
      "  from pandas.core import datetools\n"
     ]
    }
   ],
   "source": [
    "\n",
    "#check boxplot, p values etc., bar charts?, line graph \n",
    "import numpy as np\n",
    "%matplotlib inline  \n",
    "import time\n",
    "import statsmodels.formula.api as smf\n",
    "import statsmodels.api as sm\n",
    "import pandas as pd\n",
    "import seaborn as sns\n",
    "\n",
    "import matplotlib.pyplot as plt\n",
    "\n",
    "from sklearn.metrics import confusion_matrix, accuracy_score,\\\n",
    "precision_score, recall_score\n",
    "from sklearn import tree, svm, ensemble\n",
    "from sklearn.model_selection import train_test_split, cross_val_score, GridSearchCV\n",
    "from IPython.display import Image\n",
    "import pydotplus \n"
   ]
  },
  {
   "cell_type": "code",
   "execution_count": 2,
   "metadata": {
    "collapsed": true
   },
   "outputs": [],
   "source": [
    "data = pd.read_csv('data.csv')\n",
    "# # print data.head() #print the first 5 rows of all columns\n",
    "# #print data.info() # check all columns have the same number of entries. \n",
    "# model = smf.ols(formula = 'area_mean~texture_worst', data = data).fit()\n",
    "\n",
    "# print model.summary() #try a simple model to see if the database works\n",
    "\n",
    "# yh = model.predict()\n",
    "# x = data['texture_worst']\n",
    "# y2 = data['area_mean']\n",
    "\n",
    "# plt.plot(x, y2, '.')\n",
    "# plt.plot(x,yh, '-')\n",
    "# plt.xlabel('Texture Worst')\n",
    "# plt.ylabel('Area Mean')\n",
    "# plt.title('$R^2$ = %f'%(model.rsquared))\n",
    "# plt.show() "
   ]
  },
  {
   "cell_type": "code",
   "execution_count": 3,
   "metadata": {
    "collapsed": true
   },
   "outputs": [],
   "source": [
    "# model2 = smf.glm(formula = 'diagnosis_binary~area_mean+texture_worst+symmetry_worst', data = data, family = sm.families.Binomial()).fit()\n",
    "# print model2.summary()\n",
    "# from sklearn.metrics import confusion_matrix\n",
    "\n",
    "# conf_mat = confusion_matrix(data['diagnosis_binary'], model2.predict()>0.5, labels = [1, 0])\n",
    "#from sklearn.metrics import accuracy_score, precision_score, recall_score\n",
    "\n",
    "# print '\\nMetrics'\n",
    "# print 'Accuracy: %.3f' %accuracy_score(data['diagnosis_binary'], model2.predict()>0.5)\n",
    "# print 'Precision: %.3f' %precision_score(data['diagnosis_binary'], model2.predict()>0.5)\n",
    "# print 'Recall: %.3f' %recall_score(data['diagnosis_binary'], model2.predict()>0.5)\n"
   ]
  },
  {
   "cell_type": "code",
   "execution_count": 4,
   "metadata": {
    "collapsed": true
   },
   "outputs": [],
   "source": [
    "# df_cm = pd.DataFrame(conf_mat, index = ['B', 'M'], columns = ['B', 'M'])\n",
    "# plt.figure(figsize = (5,3.5))\n",
    "# sns.heatmap(df_cm, annot=True, fmt='g', cmap = 'binary')\n",
    "# plt.title('Confusion Matrix')\n",
    "# plt.ylabel('Actual')\n",
    "# plt.xlabel('Predicted')\n",
    "# plt.show()"
   ]
  },
  {
   "cell_type": "code",
   "execution_count": null,
   "metadata": {
    "collapsed": true
   },
   "outputs": [],
   "source": []
  },
  {
   "cell_type": "code",
   "execution_count": 5,
   "metadata": {
    "collapsed": true
   },
   "outputs": [],
   "source": [
    "cancertree = tree.DecisionTreeClassifier(max_depth=2, min_impurity_split=0.2)\n",
    "# cancertree.fit(X_train,y_train)"
   ]
  },
  {
   "cell_type": "code",
   "execution_count": 6,
   "metadata": {
    "collapsed": true
   },
   "outputs": [],
   "source": [
    "# dot_data = tree.export_graphviz(cancertree, out_file=None) \n",
    "# graph = pydotplus.graph_from_dot_data(dot_data) \n",
    "\n",
    "\n",
    "# dot_data = tree.export_graphviz(cancertree, out_file=None,\n",
    "#                                 feature_names = variables,\n",
    "#                                 class_names = ('Negative', 'Positive'),\n",
    "#                                 filled = True, rounded = True,\n",
    "#                                 special_characters = True)\n",
    "# graph = pydotplus.graph_from_dot_data(dot_data)\n",
    "# Image(graph.create_png())"
   ]
  },
  {
   "cell_type": "code",
   "execution_count": 7,
   "metadata": {
    "collapsed": true
   },
   "outputs": [],
   "source": [
    "# print '\\nFor the training set:'\n",
    "# print 'Accuracy: %0.4f'%(accuracy_score(y_train, cancertree.predict(X_train)))\n",
    "# print 'Precision: %0.4f'%(precision_score(y_train, cancertree.predict(X_train)))\n",
    "# print 'Recall: %0.4f'%(recall_score(y_train, cancertree.predict(X_train)))\n",
    "\n",
    "\n",
    "# print '\\nFor the test set:'\n",
    "# print 'Accuracy: %0.4f'%(accuracy_score(y_test, cancertree.predict(X_test)))\n",
    "# print 'Precision: %0.4f'%(precision_score(y_test, cancertree.predict(X_test)))\n",
    "# print 'Recall: %0.4f'%(recall_score(y_test, cancertree.predict(X_test)))"
   ]
  },
  {
   "cell_type": "code",
   "execution_count": null,
   "metadata": {
    "collapsed": true
   },
   "outputs": [],
   "source": []
  },
  {
   "cell_type": "code",
   "execution_count": 8,
   "metadata": {
    "collapsed": true
   },
   "outputs": [],
   "source": [
    "# gerald = tree.DecisionTreeClassifier()\n",
    "\n",
    "# # For more information on what is happening here see slide 25\n",
    "\n",
    "# parameters_tree = {'min_impurity_split': np.linspace(0,0.2,20),'max_depth':range(2,8)}\n",
    "\n",
    "# super_tree = GridSearchCV(gerald, parameters_tree, cv=10, scoring='accuracy')\n",
    "# super_tree.fit(X_train,y_train)\n",
    "\n",
    "\n",
    "# # Returns the best fitted model on the data\n",
    "# gerald = super_tree.best_estimator_\n",
    "\n",
    "# print '\\nFor the training set:'\n",
    "# print 'Accuracy: %0.4f'%(accuracy_score(y_train, gerald.predict(X_train)))\n",
    "# print 'Precision: %0.4f'%(precision_score(y_train, gerald.predict(X_train)))\n",
    "# print 'Recall: %0.4f'%(recall_score(y_train, gerald.predict(X_train)))\n",
    "\n",
    "\n",
    "# print '\\nFor the test set:'\n",
    "# print 'Accuracy: %0.4f'%(accuracy_score(y_test, gerald.predict(X_test)))\n",
    "# print 'Precision: %0.4f'%(precision_score(y_test, gerald.predict(X_test)))\n",
    "# print 'Recall: %0.4f'%(recall_score(y_test, gerald.predict(X_test)))"
   ]
  },
  {
   "cell_type": "code",
   "execution_count": 9,
   "metadata": {
    "collapsed": true
   },
   "outputs": [],
   "source": [
    "# from sklearn import tree \n",
    "# big_mac = tree.DecisionTreeClassifier(max_depth=2, min_impurity_split=0.2)\n",
    "# scores = cross_val_score(big_mac, X_train, y_train, cv=10, scoring='accuracy') \n",
    "# print 'Mean accuracy from the cross-validation: %.3f \\nand the full vector: %s\\n' %(np.mean(scores), ', '.join(map(\"{:.3f}\".format, scores)))\n",
    "# big_mac.fit(X_train,y_train)"
   ]
  },
  {
   "cell_type": "code",
   "execution_count": 36,
   "metadata": {
    "collapsed": false
   },
   "outputs": [
    {
     "name": "stdout",
     "output_type": "stream",
     "text": [
      "Mean accuracy from the cross-validation: 0.956 \n",
      "and the full vector: 0.957,0.979,0.957,0.956,0.956,0.978,0.956,0.867,0.956,1.000\n",
      "\n",
      "Accuracy on the train set: 1.000\n",
      "Accuracy on the test set: 0.956\n",
      "Precision: 1.0000\n",
      "Recall: 1.0000\n",
      "Precision: 0.9730\n",
      "Recall: 0.9000\n",
      "--- 12.7949998379 seconds ---\n"
     ]
    }
   ],
   "source": [
    "from sklearn import ensemble\n",
    "#import time\n",
    "data = pd.read_csv('data.csv')\n",
    "train, test = train_test_split(data, test_size = 0.2, random_state = 9)\n",
    "target = 'diagnosis_binary'\n",
    "variables = list(data.columns)\n",
    "variables.remove(target)\n",
    "X_train = train[variables]\n",
    "y_train = train['diagnosis_binary']\n",
    "X_test = test[variables]\n",
    "\n",
    "start_time = time.time()\n",
    "v = ensemble.RandomForestClassifier(n_estimators=100)\n",
    "y_test = test['diagnosis_binary']\n",
    "scores = cross_val_score(v, X_train, y_train, cv=10, scoring='accuracy')\n",
    "print 'Mean accuracy from the cross-validation: %.3f \\nand the full vector: %s\\n' %(np.mean(scores), ','.join(map(\"{:.3f}\".format, scores)))\n",
    "v.fit(X_train,y_train)\n",
    "#print clf.tree_\n",
    "print 'Accuracy on the train set: %.3f' %accuracy_score(y_train, v.predict(X_train))\n",
    "print 'Accuracy on the test set: %.3f' %accuracy_score(y_test, v.predict(X_test))\n",
    "print 'Precision: %0.4f'%(precision_score(y_train, v.predict(X_train)))\n",
    "print 'Recall: %0.4f'%(recall_score(y_train, v.predict(X_train)))\n",
    "print 'Precision: %0.4f'%(precision_score(y_test, v.predict(X_test)))\n",
    "print 'Recall: %0.4f'%(recall_score(y_test, v.predict(X_test)))\n",
    "print(\"--- %s seconds ---\" % (time.time() - start_time))"
   ]
  },
  {
   "cell_type": "code",
   "execution_count": 11,
   "metadata": {
    "collapsed": false
   },
   "outputs": [
    {
     "name": "stdout",
     "output_type": "stream",
     "text": [
      "Mean accuracy from the cross-validation: 0.934 \n",
      "and the full vector: 0.935,0.957,0.935,0.913,0.935,0.956,0.956,0.911,0.911,0.933\n",
      "\n",
      "Accuracy on the train set: 0.998\n",
      "Accuracy on the test set: 0.912\n",
      "Precision: 0.9940\n",
      "Recall: 1.0000\n",
      "Precision: 0.9111\n",
      "Recall: 0.8723\n",
      "--- 0.615000009537 seconds ---\n"
     ]
    }
   ],
   "source": [
    "from sklearn import svm\n",
    "start_time = time.time()\n",
    "# z = svm.SVC(kernel='linear', C = 1) # c is 1 by default \n",
    "z = svm.SVC(kernel='rbf', C=1000, gamma=0.0001)\n",
    "# train, test = train_test_split(data, test_size = 0.2, random_state = 42)\n",
    "# # variables = ['area_mean','texture_worst','symmetry_worst']\n",
    "# target = 'diagnosis_binary'\n",
    "# variables = list(data.columns)\n",
    "# variables.remove(target)\n",
    "# X_train = train[variables]\n",
    "# y_train = train['diagnosis_binary']\n",
    "# X_test = test[variables]\n",
    "# y_test = test['diagnosis_binary']\n",
    "scores = cross_val_score(z, X_train, y_train, cv=10, scoring='accuracy')\n",
    "print 'Mean accuracy from the cross-validation: %.3f \\nand the full vector: %s\\n' %(np.mean(scores), ','.join(map(\"{:.3f}\".format, scores)))\n",
    "#print clf.tree_\n",
    "#z.best_params_\n",
    "z.fit(X_train,y_train)\n",
    "print 'Accuracy on the train set: %.3f' %accuracy_score(y_train, z.predict(X_train))\n",
    "print 'Accuracy on the test set: %.3f' %accuracy_score(y_test, z.predict(X_test))\n",
    "print 'Precision: %0.4f'%(precision_score(y_train, z.predict(X_train)))\n",
    "print 'Recall: %0.4f'%(recall_score(y_train, z.predict(X_train)))\n",
    "print 'Precision: %0.4f'%(precision_score(y_test, z.predict(X_test)))\n",
    "print 'Recall: %0.4f'%(recall_score(y_test, z.predict(X_test)))\n",
    "print(\"--- %s seconds ---\" % (time.time() - start_time))"
   ]
  },
  {
   "cell_type": "code",
   "execution_count": 69,
   "metadata": {
    "collapsed": false
   },
   "outputs": [
    {
     "name": "stdout",
     "output_type": "stream",
     "text": [
      "{'kernel': 'rbf', 'C': 3.25, 'gamma': 9.9999999999999995e-07}\n",
      "Mean accuracy from the cross-validation: 0.918 \n",
      "and the full vector: 0.915,0.936,0.978,0.911,0.889,0.956,0.911,0.889,0.889,0.911\n",
      "\n",
      "Accuracy on the train set: 0.925\n",
      "Accuracy on the test set: 0.930\n",
      "Precision: 0.9539\n",
      "Recall: 0.8430\n",
      "Precision: 1.0000\n",
      "Recall: 0.8000\n",
      "--- 1603.648 seconds ---\n"
     ]
    }
   ],
   "source": [
    "from sklearn.model_selection import GridSearchCV\n",
    "#parameters = [{'kernel': ['rbf'], 'gamma': [1e-2, 1e-3, 1e-4, 1e-5], 'C': [1,2,100,1000,10000]}]\n",
    "parameters = [{'kernel': ['rbf'], 'gamma': np.linspace(1e-2,1e-6,10), 'C': np.linspace(1,10,5)}]\n",
    "svr = svm.SVC()\n",
    "x = GridSearchCV(svr, parameters, cv=5, scoring='accuracy')\n",
    "x.fit(X_train,y_train)\n",
    "v = x.best_params_\n",
    "print v\n",
    "d = svm.SVC(kernel='rbf', C=v['C'], gamma=v['gamma'])\n",
    "scores = cross_val_score(d, X_train, y_train, cv=10, scoring='accuracy')\n",
    "print 'Mean accuracy from the cross-validation: %.3f \\nand the full vector: %s\\n' %(np.mean(scores), ','.join(map(\"{:.3f}\".format, scores)))\n",
    "d.fit(X_train,y_train)\n",
    "print 'Accuracy on the train set: %.3f' %accuracy_score(y_train, d.predict(X_train))\n",
    "print 'Accuracy on the test set: %.3f' %accuracy_score(y_test, d.predict(X_test))\n",
    "print 'Precision: %0.4f'%(precision_score(y_train, d.predict(X_train)))\n",
    "print 'Recall: %0.4f'%(recall_score(y_train, d.predict(X_train)))\n",
    "print 'Precision: %0.4f'%(precision_score(y_test, d.predict(X_test)))\n",
    "print 'Recall: %0.4f'%(recall_score(y_test, d.predict(X_test)))\n",
    "print(\"--- %s seconds ---\" % (time.time() - start_time))\n",
    "\n",
    "# print 'Accuracy on the train set: %.3f' %accuracy_score(y_train, clf.predict(X_train))\n",
    "\n",
    "# print 'Accuracy on the test set: %.3f' %accuracy_score(y_test, clf.predict(X_test))\n"
   ]
  },
  {
   "cell_type": "markdown",
   "metadata": {
    "collapsed": true
   },
   "source": [
    "Improvements \n",
    "More Info\n",
    "Different regions\n",
    "More data"
   ]
  },
  {
   "cell_type": "code",
   "execution_count": null,
   "metadata": {
    "collapsed": true
   },
   "outputs": [],
   "source": []
  }
 ],
 "metadata": {
  "kernelspec": {
   "display_name": "Python 2",
   "language": "python",
   "name": "python2"
  },
  "language_info": {
   "codemirror_mode": {
    "name": "ipython",
    "version": 2
   },
   "file_extension": ".py",
   "mimetype": "text/x-python",
   "name": "python",
   "nbconvert_exporter": "python",
   "pygments_lexer": "ipython2",
   "version": "2.7.13"
  }
 },
 "nbformat": 4,
 "nbformat_minor": 2
}
