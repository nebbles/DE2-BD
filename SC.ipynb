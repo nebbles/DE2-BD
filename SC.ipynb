{
 "cells": [
  {
   "cell_type": "code",
   "execution_count": 26,
   "metadata": {
    "collapsed": true
   },
   "outputs": [],
   "source": [
    "# Import All Libraries\n",
    "import numpy as np\n",
    "%matplotlib inline  \n",
    "\n",
    "import statsmodels.formula.api as smf\n",
    "import statsmodels.api as sm\n",
    "import pandas as pd\n",
    "import seaborn as sns\n",
    "\n",
    "import matplotlib.pyplot as plt\n",
    "\n",
    "from sklearn.metrics import confusion_matrix, accuracy_score,\\\n",
    "precision_score, recall_score\n",
    "from sklearn import tree, svm, ensemble\n",
    "from sklearn.model_selection import train_test_split, cross_val_score, GridSearchCV\n",
    "from IPython.display import Image\n",
    "import pydotplus "
   ]
  },
  {
   "cell_type": "code",
   "execution_count": 27,
   "metadata": {
    "collapsed": false
   },
   "outputs": [
    {
     "name": "stdout",
     "output_type": "stream",
     "text": [
      "<class 'pandas.core.frame.DataFrame'>\n",
      "RangeIndex: 569 entries, 0 to 568\n",
      "Data columns (total 33 columns):\n",
      "id                         569 non-null int64\n",
      "diagnosis                  569 non-null object\n",
      "diagnosis_binary           569 non-null int64\n",
      "radius_mean                569 non-null float64\n",
      "texture_mean               569 non-null float64\n",
      "perimeter_mean             569 non-null float64\n",
      "area_mean                  569 non-null float64\n",
      "smoothness_mean            569 non-null float64\n",
      "compactness_mean           569 non-null float64\n",
      "concavity_mean             569 non-null float64\n",
      "concave points_mean        569 non-null float64\n",
      "symmetry_mean              569 non-null float64\n",
      "fractal_dimension_mean     569 non-null float64\n",
      "radius_se                  569 non-null float64\n",
      "texture_se                 569 non-null float64\n",
      "perimeter_se               569 non-null float64\n",
      "area_se                    569 non-null float64\n",
      "smoothness_se              569 non-null float64\n",
      "compactness_se             569 non-null float64\n",
      "concavity_se               569 non-null float64\n",
      "concave points_se          569 non-null float64\n",
      "symmetry_se                569 non-null float64\n",
      "fractal_dimension_se       569 non-null float64\n",
      "radius_worst               569 non-null float64\n",
      "texture_worst              569 non-null float64\n",
      "perimeter_worst            569 non-null float64\n",
      "area_worst                 569 non-null float64\n",
      "smoothness_worst           569 non-null float64\n",
      "compactness_worst          569 non-null float64\n",
      "concavity_worst            569 non-null float64\n",
      "concavepoints_worst        569 non-null float64\n",
      "symmetry_worst             569 non-null float64\n",
      "fractal_dimension_worst    569 non-null float64\n",
      "dtypes: float64(30), int64(2), object(1)\n",
      "memory usage: 146.8+ KB\n",
      "None\n"
     ]
    }
   ],
   "source": [
    "#Read the data\n",
    "data = pd.read_csv('data.csv')\n",
    "print data.info() # to check all columns have the same number of entries. "
   ]
  },
  {
   "cell_type": "code",
   "execution_count": 28,
   "metadata": {
    "collapsed": false
   },
   "outputs": [
    {
     "name": "stdout",
     "output_type": "stream",
     "text": [
      "                 Generalized Linear Model Regression Results                  \n",
      "==============================================================================\n",
      "Dep. Variable:       diagnosis_binary   No. Observations:                  569\n",
      "Model:                            GLM   Df Residuals:                      564\n",
      "Model Family:                Binomial   Df Model:                            4\n",
      "Link Function:                  logit   Scale:                             1.0\n",
      "Method:                          IRLS   Log-Likelihood:                    nan\n",
      "Date:                Sat, 24 Jun 2017   Deviance:                       82.291\n",
      "Time:                        15:59:47   Pearson chi2:                     255.\n",
      "No. Iterations:                    12                                         \n",
      "=======================================================================================\n",
      "                          coef    std err          z      P>|z|      [95.0% Conf. Int.]\n",
      "---------------------------------------------------------------------------------------\n",
      "Intercept             -28.8899      4.314     -6.697      0.000       -37.346   -20.434\n",
      "radius_se               8.5214      2.057      4.143      0.000         4.490    12.552\n",
      "texture_worst           0.3209      0.063      5.058      0.000         0.197     0.445\n",
      "area_worst              0.0111      0.002      5.347      0.000         0.007     0.015\n",
      "concavepoints_worst    63.7033     11.748      5.423      0.000        40.678    86.729\n",
      "=======================================================================================\n"
     ]
    }
   ],
   "source": [
    "#train the model with all the data.\n",
    "model = smf.glm(formula = 'diagnosis_binary~radius_se+texture_worst+area_worst+concavepoints_worst', data = data, family = sm.families.Binomial()).fit()\n",
    "print model.summary()"
   ]
  },
  {
   "cell_type": "code",
   "execution_count": 29,
   "metadata": {
    "collapsed": false
   },
   "outputs": [
    {
     "name": "stdout",
     "output_type": "stream",
     "text": [
      "\n",
      "Metrics\n",
      "Accuracy: 0.967\n",
      "Precision: 0.957\n",
      "Recall: 0.953\n"
     ]
    }
   ],
   "source": [
    "from sklearn.metrics import accuracy_score, precision_score, recall_score\n",
    "\n",
    "print '\\nMetrics'\n",
    "print 'Accuracy: %.3f' %accuracy_score(data['diagnosis_binary'], model.predict()>0.5)\n",
    "print 'Precision: %.3f' %precision_score(data['diagnosis_binary'], model.predict()>0.5)\n",
    "print 'Recall: %.3f' %recall_score(data['diagnosis_binary'], model.predict()>0.5)"
   ]
  },
  {
   "cell_type": "code",
   "execution_count": 30,
   "metadata": {
    "collapsed": false
   },
   "outputs": [
    {
     "data": {
      "image/png": "[encoded data removed]",
      "text/plain": [
       "<matplotlib.figure.Figure at 0xdda68d0>"
      ]
     },
     "metadata": {},
     "output_type": "display_data"
    }
   ],
   "source": [
    "#Create Confusion Matrix\n",
    "from sklearn.metrics import confusion_matrix\n",
    "\n",
    "conf_mat = confusion_matrix(data['diagnosis_binary'], model.predict()>0.5, labels = [1, 0])\n",
    "df_cm = pd.DataFrame(conf_mat, index = ['B', 'M'], columns = ['B', 'M'])\n",
    "plt.figure(figsize = (5,3.5))\n",
    "sns.heatmap(df_cm, annot=True, fmt='g', cmap = 'binary')\n",
    "plt.title('Confusion Matrix')\n",
    "plt.ylabel('Actual')\n",
    "plt.xlabel('Predicted')\n",
    "plt.show()"
   ]
  },
  {
   "cell_type": "code",
   "execution_count": 31,
   "metadata": {
    "collapsed": true
   },
   "outputs": [],
   "source": [
    "#Split data in test and train. 80% train, 20% test.\n",
    "train, test = train_test_split(data, test_size = 0.2, random_state = 42)\n",
    "variables = ['radius_se','texture_worst','area_worst','concavepoints_worst']\n",
    "X_train = train[variables]\n",
    "y_train = train['diagnosis_binary']\n",
    "X_test = test[variables]\n",
    "y_test = test['diagnosis_binary']"
   ]
  },
  {
   "cell_type": "code",
   "execution_count": 32,
   "metadata": {
    "collapsed": false
   },
   "outputs": [
    {
     "name": "stdout",
     "output_type": "stream",
     "text": [
      "\n",
      "For the training set:\n",
      "Accuracy: 0.9604\n",
      "Precision: 0.9521\n",
      "Recall: 0.9408\n",
      "\n",
      "For the test set:\n",
      "Accuracy: 0.9474\n",
      "Precision: 0.9302\n",
      "Recall: 0.9302\n",
      "\n",
      "Max_Depth: 2.00\n",
      "Min_Impurity_Split: 0.09\n"
     ]
    }
   ],
   "source": [
    "#This section creates a tree and then looks for the values of max_depth and min_impurity_slpit to create the best tree possible.\n",
    "\n",
    "cancertree = tree.DecisionTreeClassifier()\n",
    "\n",
    "# For more information on what is happening here see slide 25\n",
    "\n",
    "parameters_tree = {'min_impurity_split': np.linspace(0,0.2,20),'max_depth':range(2,8)}\n",
    "\n",
    "super_tree = GridSearchCV(cancertree, parameters_tree, cv=10, scoring='accuracy')\n",
    "super_tree.fit(X_train,y_train)\n",
    "\n",
    "\n",
    "# Returns the best fitted model on the data\n",
    "bestcancertree = super_tree.best_estimator_  # cal super_tree.best_params_[min_impurity_split (or) max_depth] to get the optimal parameters\n",
    "\n",
    "print '\\nFor the training set:'\n",
    "print 'Accuracy: %0.4f'%(accuracy_score(y_train, bestcancertree.predict(X_train)))\n",
    "print 'Precision: %0.4f'%(precision_score(y_train, bestcancertree.predict(X_train)))\n",
    "print 'Recall: %0.4f'%(recall_score(y_train, bestcancertree.predict(X_train)))\n",
    "\n",
    "\n",
    "print '\\nFor the test set:'\n",
    "print 'Accuracy: %0.4f'%(accuracy_score(y_test, bestcancertree.predict(X_test)))\n",
    "print 'Precision: %0.4f'%(precision_score(y_test, bestcancertree.predict(X_test)))\n",
    "print 'Recall: %0.4f'%(recall_score(y_test, bestcancertree.predict(X_test)))\n",
    "\n",
    "#Prints the values of max_depth and min_impurity_split that create the best tree. \n",
    "x = super_tree.best_params_['max_depth']\n",
    "y =super_tree.best_params_['min_impurity_split']\n",
    "print '\\nMax_Depth: %.02f'%x\n",
    "print 'Min_Impurity_Split: %.02f'%y"
   ]
  },
  {
   "cell_type": "code",
   "execution_count": 33,
   "metadata": {
    "collapsed": false
   },
   "outputs": [
    {
     "name": "stdout",
     "output_type": "stream",
     "text": [
      "Mean ACCURACY from the cross-validation: 0.941 \n",
      "and the full vector: 0.957, 0.935, 0.978, 0.826, 0.978, 0.978, 0.956, 0.933, 0.978, 0.886\n",
      "\n",
      "Mean PRECISION from the cross-validation: 0.930 \n",
      "and the full vector: 0.895, 0.938, 1.000, 0.765, 0.944, 0.944, 1.000, 0.889, 1.000, 0.923\n",
      "\n",
      "Mean RECALL from the cross-validation: 0.910 \n",
      "and the full vector: 1.000, 0.882, 0.941, 0.765, 1.000, 1.000, 0.882, 0.941, 0.941, 0.750\n",
      "\n"
     ]
    },
    {
     "data": {
      "text/plain": [
       "DecisionTreeClassifier(class_weight=None, criterion='gini', max_depth=None,\n",
       "            max_features=None, max_leaf_nodes=None,\n",
       "            min_impurity_split=1e-07, min_samples_leaf=1,\n",
       "            min_samples_split=2, min_weight_fraction_leaf=0.0,\n",
       "            presort=False, random_state=None, splitter='best')"
      ]
     },
     "execution_count": 33,
     "metadata": {},
     "output_type": "execute_result"
    }
   ],
   "source": [
    "#Create 10 iterations of test and train data to find the mean value between them of Accuracy, Precision & Recall. \n",
    "from sklearn import tree \n",
    "scores = cross_val_score(bestcancertree, X_train, y_train, cv=10, scoring='accuracy') \n",
    "print 'Mean ACCURACY from the cross-validation: %.3f \\nand the full vector: %s\\n' %(np.mean(scores), ', '.join(map(\"{:.3f}\".format, scores)))\n",
    "scores2 = cross_val_score(bestcancertree, X_train, y_train, cv=10, scoring='precision') \n",
    "print 'Mean PRECISION from the cross-validation: %.3f \\nand the full vector: %s\\n' %(np.mean(scores2), ', '.join(map(\"{:.3f}\".format, scores2)))\n",
    "scores3 = cross_val_score(bestcancertree, X_train, y_train, cv=10, scoring='recall') \n",
    "print 'Mean RECALL from the cross-validation: %.3f \\nand the full vector: %s\\n' %(np.mean(scores3), ', '.join(map(\"{:.3f}\".format, scores3)))\n",
    "cancertree.fit(X_train,y_train)"
   ]
  },
  {
   "cell_type": "code",
   "execution_count": 34,
   "metadata": {
    "collapsed": false
   },
   "outputs": [
    {
     "ename": "InvocationException",
     "evalue": "GraphViz's executables not found",
     "output_type": "error",
     "traceback": [
      "\u001b[0;31m---------------------------------------------------------------------------\u001b[0m",
      "\u001b[0;31mInvocationException\u001b[0m                       Traceback (most recent call last)",
      "\u001b[0;32m<ipython-input-34-9f3ef77b7893>\u001b[0m in \u001b[0;36m<module>\u001b[0;34m()\u001b[0m\n\u001b[1;32m     10\u001b[0m                                 special_characters = True)\n\u001b[1;32m     11\u001b[0m \u001b[0mgraph\u001b[0m \u001b[1;33m=\u001b[0m \u001b[0mpydotplus\u001b[0m\u001b[1;33m.\u001b[0m\u001b[0mgraph_from_dot_data\u001b[0m\u001b[1;33m(\u001b[0m\u001b[0mdot_data\u001b[0m\u001b[1;33m)\u001b[0m\u001b[1;33m\u001b[0m\u001b[0m\n\u001b[0;32m---> 12\u001b[0;31m \u001b[0mImage\u001b[0m\u001b[1;33m(\u001b[0m\u001b[0mgraph\u001b[0m\u001b[1;33m.\u001b[0m\u001b[0mcreate_png\u001b[0m\u001b[1;33m(\u001b[0m\u001b[1;33m)\u001b[0m\u001b[1;33m)\u001b[0m\u001b[1;33m\u001b[0m\u001b[0m\n\u001b[0m",
      "\u001b[0;32mC:\\Users\\Sergi\\Anaconda2\\lib\\site-packages\\pydotplus\\graphviz.pyc\u001b[0m in \u001b[0;36m<lambda>\u001b[0;34m(f, prog)\u001b[0m\n\u001b[1;32m   1795\u001b[0m             self.__setattr__(\n\u001b[1;32m   1796\u001b[0m                 \u001b[1;34m'create_'\u001b[0m \u001b[1;33m+\u001b[0m \u001b[0mfrmt\u001b[0m\u001b[1;33m,\u001b[0m\u001b[1;33m\u001b[0m\u001b[0m\n\u001b[0;32m-> 1797\u001b[0;31m                 \u001b[1;32mlambda\u001b[0m \u001b[0mf\u001b[0m\u001b[1;33m=\u001b[0m\u001b[0mfrmt\u001b[0m\u001b[1;33m,\u001b[0m \u001b[0mprog\u001b[0m\u001b[1;33m=\u001b[0m\u001b[0mself\u001b[0m\u001b[1;33m.\u001b[0m\u001b[0mprog\u001b[0m\u001b[1;33m:\u001b[0m \u001b[0mself\u001b[0m\u001b[1;33m.\u001b[0m\u001b[0mcreate\u001b[0m\u001b[1;33m(\u001b[0m\u001b[0mformat\u001b[0m\u001b[1;33m=\u001b[0m\u001b[0mf\u001b[0m\u001b[1;33m,\u001b[0m \u001b[0mprog\u001b[0m\u001b[1;33m=\u001b[0m\u001b[0mprog\u001b[0m\u001b[1;33m)\u001b[0m\u001b[1;33m\u001b[0m\u001b[0m\n\u001b[0m\u001b[1;32m   1798\u001b[0m             )\n\u001b[1;32m   1799\u001b[0m             \u001b[0mf\u001b[0m \u001b[1;33m=\u001b[0m \u001b[0mself\u001b[0m\u001b[1;33m.\u001b[0m\u001b[0m__dict__\u001b[0m\u001b[1;33m[\u001b[0m\u001b[1;34m'create_'\u001b[0m \u001b[1;33m+\u001b[0m \u001b[0mfrmt\u001b[0m\u001b[1;33m]\u001b[0m\u001b[1;33m\u001b[0m\u001b[0m\n",
      "\u001b[0;32mC:\\Users\\Sergi\\Anaconda2\\lib\\site-packages\\pydotplus\\graphviz.pyc\u001b[0m in \u001b[0;36mcreate\u001b[0;34m(self, prog, format)\u001b[0m\n\u001b[1;32m   1958\u001b[0m             \u001b[1;32mif\u001b[0m \u001b[0mself\u001b[0m\u001b[1;33m.\u001b[0m\u001b[0mprogs\u001b[0m \u001b[1;32mis\u001b[0m \u001b[0mNone\u001b[0m\u001b[1;33m:\u001b[0m\u001b[1;33m\u001b[0m\u001b[0m\n\u001b[1;32m   1959\u001b[0m                 raise InvocationException(\n\u001b[0;32m-> 1960\u001b[0;31m                     'GraphViz\\'s executables not found')\n\u001b[0m\u001b[1;32m   1961\u001b[0m \u001b[1;33m\u001b[0m\u001b[0m\n\u001b[1;32m   1962\u001b[0m         \u001b[1;32mif\u001b[0m \u001b[0mprog\u001b[0m \u001b[1;32mnot\u001b[0m \u001b[1;32min\u001b[0m \u001b[0mself\u001b[0m\u001b[1;33m.\u001b[0m\u001b[0mprogs\u001b[0m\u001b[1;33m:\u001b[0m\u001b[1;33m\u001b[0m\u001b[0m\n",
      "\u001b[0;31mInvocationException\u001b[0m: GraphViz's executables not found"
     ]
    }
   ],
   "source": [
    "#Plots the tree\n",
    "dot_data = tree.export_graphviz(cancertree, out_file=None) \n",
    "graph = pydotplus.graph_from_dot_data(dot_data) \n",
    "\n",
    "\n",
    "dot_data = tree.export_graphviz(cancertree, out_file=None,\n",
    "                                feature_names = variables,\n",
    "                                class_names = ('Negative', 'Positive'),\n",
    "                                filled = True, rounded = True,\n",
    "                                special_characters = True)\n",
    "graph = pydotplus.graph_from_dot_data(dot_data)\n",
    "Image(graph.create_png())"
   ]
  },
  {
   "cell_type": "code",
   "execution_count": null,
   "metadata": {
    "collapsed": true
   },
   "outputs": [],
   "source": []
  }
 ],
 "metadata": {
  "kernelspec": {
   "display_name": "Python 2",
   "language": "python",
   "name": "python2"
  },
  "language_info": {
   "codemirror_mode": {
    "name": "ipython",
    "version": 2
   },
   "file_extension": ".py",
   "mimetype": "text/x-python",
   "name": "python",
   "nbconvert_exporter": "python",
   "pygments_lexer": "ipython2",
   "version": "2.7.13"
  }
 },
 "nbformat": 4,
 "nbformat_minor": 2
}
