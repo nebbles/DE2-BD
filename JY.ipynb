{
 "cells": [
  {
   "cell_type": "code",
   "execution_count": 236,
   "metadata": {
    "collapsed": true
   },
   "outputs": [],
   "source": [
    "import pandas as pd\n",
    "import numpy as np\n",
    "import seaborn as sns\n",
    "from scipy.stats import pearsonr\n",
    "from sklearn.metrics import accuracy_score, precision_score, recall_score\n",
    "import statsmodels.api as sm\n",
    "import statsmodels.formula.api as smf\n",
    "import matplotlib.pyplot as plt\n",
    "%matplotlib inline\n",
    "sns.set(style = 'ticks', font_scale = 1.8)\n",
    "from sklearn.metrics import confusion_matrix, accuracy_score,\\\n",
    "precision_score, recall_score\n",
    "from sklearn import tree, svm, ensemble\n",
    "from sklearn.model_selection import train_test_split, cross_val_score, GridSearchCV\n",
    "from IPython.display import Image\n",
    "import pydotplus "
   ]
  },
  {
   "cell_type": "code",
   "execution_count": 137,
   "metadata": {
    "collapsed": false
   },
   "outputs": [
    {
     "name": "stdout",
     "output_type": "stream",
     "text": [
      "<class 'pandas.core.frame.DataFrame'>\n",
      "RangeIndex: 569 entries, 0 to 568\n",
      "Data columns (total 31 columns):\n",
      "radius_mean                569 non-null float64\n",
      "texture_mean               569 non-null float64\n",
      "perimeter_mean             569 non-null float64\n",
      "area_mean                  569 non-null float64\n",
      "smoothness_mean            569 non-null float64\n",
      "compactness_mean           569 non-null float64\n",
      "concavity_mean             569 non-null float64\n",
      "concavepoints_mean         569 non-null float64\n",
      "symmetry_mean              569 non-null float64\n",
      "fractal_dimension_mean     569 non-null float64\n",
      "radius_se                  569 non-null float64\n",
      "texture_se                 569 non-null float64\n",
      "perimeter_se               569 non-null float64\n",
      "area_se                    569 non-null float64\n",
      "smoothness_se              569 non-null float64\n",
      "compactness_se             569 non-null float64\n",
      "concavity_se               569 non-null float64\n",
      "concavepoints_se           569 non-null float64\n",
      "symmetry_se                569 non-null float64\n",
      "fractal_dimension_se       569 non-null float64\n",
      "radius_worst               569 non-null float64\n",
      "texture_worst              569 non-null float64\n",
      "perimeter_worst            569 non-null float64\n",
      "area_worst                 569 non-null float64\n",
      "smoothness_worst           569 non-null float64\n",
      "compactness_worst          569 non-null float64\n",
      "concavity_worst            569 non-null float64\n",
      "concavepoints_worst        569 non-null float64\n",
      "symmetry_worst             569 non-null float64\n",
      "fractal_dimension_worst    569 non-null float64\n",
      "diagnosis_binary           569 non-null int64\n",
      "dtypes: float64(30), int64(1)\n",
      "memory usage: 137.9 KB\n"
     ]
    }
   ],
   "source": [
    "diag = pd.read_csv('Breast-Cancer-Wisconsin.csv')\n",
    "diag.info()"
   ]
  },
  {
   "cell_type": "code",
   "execution_count": 138,
   "metadata": {
    "collapsed": false
   },
   "outputs": [
    {
     "name": "stdout",
     "output_type": "stream",
     "text": [
      "                 Generalized Linear Model Regression Results                  \n",
      "==============================================================================\n",
      "Dep. Variable:       diagnosis_binary   No. Observations:                  569\n",
      "Model:                            GLM   Df Residuals:                      565\n",
      "Model Family:                Binomial   Df Model:                            3\n",
      "Link Function:                  logit   Scale:                             1.0\n",
      "Method:                          IRLS   Log-Likelihood:                -53.829\n",
      "Date:                Fri, 23 Jun 2017   Deviance:                       107.66\n",
      "Time:                        14:46:35   Pearson chi2:                     640.\n",
      "No. Iterations:                     9                                         \n",
      "===================================================================================\n",
      "                      coef    std err          z      P>|z|      [0.025      0.975]\n",
      "-----------------------------------------------------------------------------------\n",
      "Intercept         -46.2247      5.849     -7.903      0.000     -57.688     -34.761\n",
      "perimeter_worst     0.2325      0.031      7.612      0.000       0.173       0.292\n",
      "texture_worst       0.3069      0.052      5.903      0.000       0.205       0.409\n",
      "smoothness_mean   131.0959     24.138      5.431      0.000      83.787     178.405\n",
      "===================================================================================\n"
     ]
    }
   ],
   "source": [
    "bree = smf.glm(formula = 'diagnosis_binary~perimeter_worst+texture_worst+smoothness_mean', data = diag, family = sm.families.Binomial()).fit()\n",
    "print bree.summary()"
   ]
  },
  {
   "cell_type": "code",
   "execution_count": 139,
   "metadata": {
    "collapsed": true
   },
   "outputs": [],
   "source": [
    "from sklearn.metrics import confusion_matrix\n",
    "\n",
    "conf_mat = confusion_matrix(diag['diagnosis_binary'], bree.predict()>0.5, labels = [1, 0])"
   ]
  },
  {
   "cell_type": "code",
   "execution_count": 140,
   "metadata": {
    "collapsed": false
   },
   "outputs": [
    {
     "name": "stdout",
     "output_type": "stream",
     "text": [
      "\n",
      "Metrics\n",
      "Accuracy: 0.967\n",
      "Precision: 0.962\n",
      "Recall: 0.948\n"
     ]
    }
   ],
   "source": [
    "from sklearn.metrics import accuracy_score, precision_score, recall_score\n",
    "\n",
    "print '\\nMetrics'\n",
    "print 'Accuracy: %.3f' %accuracy_score(diag['diagnosis_binary'], bree.predict()>0.5)\n",
    "print 'Precision: %.3f' %precision_score(diag['diagnosis_binary'], bree.predict()>0.5)\n",
    "print 'Recall: %.3f' %recall_score(diag['diagnosis_binary'],bree.predict()>0.5)"
   ]
  },
  {
   "cell_type": "code",
   "execution_count": 141,
   "metadata": {
    "collapsed": false
   },
   "outputs": [
    {
     "data": {
      "image/png": "[encoded data removed]",
      "text/plain": [
       "<matplotlib.figure.Figure at 0xe8fcd68>"
      ]
     },
     "metadata": {},
     "output_type": "display_data"
    }
   ],
   "source": [
    "df_cm = pd.DataFrame(conf_mat, index = ['B', 'M'], columns = ['B', 'M'])\n",
    "plt.figure(figsize = (5,3.5))\n",
    "sns.heatmap(df_cm, annot=True, fmt='g', cmap = 'binary')\n",
    "plt.title('Confusion Matrix')\n",
    "plt.ylabel('Actual')\n",
    "plt.xlabel('Predicted')\n",
    "plt.show()"
   ]
  },
  {
   "cell_type": "code",
   "execution_count": 209,
   "metadata": {
    "collapsed": true
   },
   "outputs": [],
   "source": [
    "def forward_selector_glm(data, response, threshold = 0.07):\n",
    "    \"\"\"Generalised linear model designed by forward selection.\n",
    "\n",
    "    Parameters:\n",
    "    -----------\n",
    "    data : pandas DataFrame with all possible predictors and response\n",
    "\n",
    "    response: string, name of response column in data\n",
    "\n",
    "    Returns:\n",
    "    --------\n",
    "    model: an \"optimal\" fitted statsmodels generalised linear model\n",
    "           with an intercept\n",
    "           selected by forward selection\n",
    "           evaluated by deviance\n",
    "           \n",
    "    Modified from: http://planspace.org/20150423-forward_selection_with_statsmodels/ #af\n",
    "    \"\"\"\n",
    "    remaining = set(data.columns)\n",
    "    remaining.remove(response)\n",
    "    selected = []\n",
    "    current_score, best_new_score = 10000.0, 10000.0\n",
    "    while remaining and current_score == best_new_score:\n",
    "        scores_with_candidates = []\n",
    "        \n",
    "\n",
    "        for candidate in remaining:\n",
    "            formula = \"{} ~ {} + 1\".format(response,\n",
    "                                           ' + '.join(selected + [candidate]))\n",
    "            score = smf.glm(formula, data, family = sm.families.Binomial()).fit().deviance\n",
    "            scores_with_candidates.append((score, candidate))\n",
    "        scores_with_candidates.sort(reverse = True)\n",
    "        best_new_score, best_candidate = scores_with_candidates.pop()\n",
    "        if (best_new_score + best_new_score*threshold) < current_score : #  Thresholding\n",
    "            print best_candidate, '\\t' , best_new_score\n",
    "            remaining.remove(best_candidate)\n",
    "            selected.append(best_candidate)\n",
    "            current_score = best_new_score\n",
    "    formula = \"{} ~ {} + 1\".format(response,\n",
    "                                   ' + '.join(selected))\n",
    "    model = smf.glm(formula, data, family = sm.families.Binomial()).fit()\n",
    "    return model\n",
    "\n"
   ]
  },
  {
   "cell_type": "code",
   "execution_count": 224,
   "metadata": {
    "collapsed": true
   },
   "outputs": [],
   "source": [
    "from sklearn.metrics import confusion_matrix, accuracy_score, precision_score, recall_score, f1_score\n",
    "from sklearn.model_selection import train_test_split\n",
    "train, test = train_test_split(diag, test_size = 0.2,random_state = 42)"
   ]
  },
  {
   "cell_type": "code",
   "execution_count": 225,
   "metadata": {
    "collapsed": false
   },
   "outputs": [
    {
     "name": "stdout",
     "output_type": "stream",
     "text": [
      "perimeter_worst \t184.281171156\n",
      "smoothness_worst \t126.070746258\n",
      "texture_worst \t91.4060498141\n",
      "area_se \t77.2430986292\n",
      "symmetry_worst \t66.6492405928\n"
     ]
    }
   ],
   "source": [
    "training = forward_selector_glm(train,'diagnosis_binary')\n"
   ]
  },
  {
   "cell_type": "code",
   "execution_count": 226,
   "metadata": {
    "collapsed": true
   },
   "outputs": [],
   "source": [
    "from sklearn.metrics import confusion_matrix\n",
    "\n",
    "conf_mat = confusion_matrix(train['diagnosis_binary'], training.predict()>0.5, labels = [1, 0])"
   ]
  },
  {
   "cell_type": "code",
   "execution_count": 227,
   "metadata": {
    "collapsed": false
   },
   "outputs": [
    {
     "name": "stdout",
     "output_type": "stream",
     "text": [
      "\n",
      "Metrics\n",
      "Accuracy: 0.974\n",
      "Precision: 0.970\n",
      "Recall: 0.959\n"
     ]
    }
   ],
   "source": [
    "from sklearn.metrics import accuracy_score, precision_score, recall_score\n",
    "\n",
    "print '\\nMetrics'\n",
    "print 'Accuracy: %.3f' %accuracy_score(train['diagnosis_binary'], training.predict()>0.5)\n",
    "print 'Precision: %.3f' %precision_score(train['diagnosis_binary'], training.predict()>0.5)\n",
    "print 'Recall: %.3f' %recall_score(train['diagnosis_binary'],training.predict()>0.5)"
   ]
  },
  {
   "cell_type": "code",
   "execution_count": 228,
   "metadata": {
    "collapsed": false,
    "scrolled": true
   },
   "outputs": [
    {
     "data": {
      "image/png": "[encoded data removed]",
      "text/plain": [
       "<matplotlib.figure.Figure at 0xc2308d0>"
      ]
     },
     "metadata": {},
     "output_type": "display_data"
    }
   ],
   "source": [
    "df_cm = pd.DataFrame(conf_mat, index = ['B', 'M'], columns = ['B', 'M'])\n",
    "plt.figure(figsize = (5,3.5))\n",
    "sns.heatmap(df_cm, annot=True, fmt='g', cmap = 'binary')\n",
    "plt.title('Confusion Matrix')\n",
    "plt.ylabel('Actual')\n",
    "plt.xlabel('Predicted')\n",
    "plt.show()"
   ]
  },
  {
   "cell_type": "code",
   "execution_count": 239,
   "metadata": {
    "collapsed": true
   },
   "outputs": [],
   "source": [
    "other_var = ['perimeter_worst','smoothness_worst','texture_worst','area_se','symmetry_worst']\n",
    "x_train = np.array(train[other_var]) \n",
    "y_train = np.array(train['diagnosis_binary']) \n",
    "x_test = np.array(test[other_var]) \n",
    "y_test  = np.array(test['diagnosis_binary'])"
   ]
  },
  {
   "cell_type": "code",
   "execution_count": 240,
   "metadata": {
    "collapsed": false
   },
   "outputs": [
    {
     "name": "stdout",
     "output_type": "stream",
     "text": [
      "Mean accuracy from the cross-validation: 0.894 \n",
      "and the full vector: 0.957, 0.870, 0.913, 0.826, 0.957, 0.935, 0.889, 0.867, 0.889, 0.841\n",
      "\n"
     ]
    },
    {
     "data": {
      "text/plain": [
       "DecisionTreeClassifier(class_weight=None, criterion='gini', max_depth=2,\n",
       "            max_features=None, max_leaf_nodes=None, min_impurity_split=0.2,\n",
       "            min_samples_leaf=1, min_samples_split=2,\n",
       "            min_weight_fraction_leaf=0.0, presort=False, random_state=None,\n",
       "            splitter='best')"
      ]
     },
     "execution_count": 240,
     "metadata": {},
     "output_type": "execute_result"
    }
   ],
   "source": [
    "from sklearn import tree \n",
    "cancertree = tree.DecisionTreeClassifier(max_depth=2, min_impurity_split=0.2)\n",
    "scores = cross_val_score(cancertree, x_train, y_train, cv=10, scoring='accuracy') \n",
    "print 'Mean accuracy from the cross-validation: %.3f \\nand the full vector: %s\\n' %(np.mean(scores), ', '.join(map(\"{:.3f}\".format, scores)))\n",
    "cancertree.fit(x_train,y_train) "
   ]
  }
 ],
 "metadata": {
  "kernelspec": {
   "display_name": "Python 2",
   "language": "python",
   "name": "python2"
  },
  "language_info": {
   "codemirror_mode": {
    "name": "ipython",
    "version": 2
   },
   "file_extension": ".py",
   "mimetype": "text/x-python",
   "name": "python",
   "nbconvert_exporter": "python",
   "pygments_lexer": "ipython2",
   "version": "2.7.13"
  }
 },
 "nbformat": 4,
 "nbformat_minor": 2
}
